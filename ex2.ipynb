{
 "cells": [
  {
   "cell_type": "code",
   "execution_count": 4,
   "metadata": {},
   "outputs": [],
   "source": [
    "import numpy as np\n",
    "import matplotlib.pyplot as plt\n",
    "\n",
    "#np.random.seed(40)\n",
    "\n",
    "# Import data\n",
    "path = r'C:\\Users\\Marcus\\Downloads'\n",
    "y = np.genfromtxt(path + '/seOMXlogreturns2012to2014.csv')"
   ]
  },
  {
   "cell_type": "code",
   "execution_count": 53,
   "metadata": {},
   "outputs": [],
   "source": [
    "# Static parameters\n",
    "phi = 0.98\n",
    "sigma = 0.16\n",
    "Beta = [0.1, 0.25, 0.5, 1.0, 2.0] # Vary beta between 0 and 2\n",
    "\n",
    "def gaussian_density(x, mu=0.0, sigma=1.0):\n",
    "    return 1/np.sqrt(2 * np.pi * sigma**2) * np.exp(-0.5*((x - mu)/sigma)**2 )"
   ]
  },
  {
   "cell_type": "code",
   "execution_count": 55,
   "metadata": {},
   "outputs": [],
   "source": [
    "def bootstrap_particle_filter(y, n_particles, theta):\n",
    "    phi = theta[0] \n",
    "    sigma = theta[1] \n",
    "    beta = theta[2]\n",
    "    \n",
    "    T = len(y)\n",
    "    x = np.random.normal(0.0, 1.0, size=n_particles)\n",
    "    w = np.ones(n_particles) / n_particles\n",
    "    #w_tilde = np.zeros(n_particles)\n",
    "    \n",
    "    X = np.zeros([T, n_particles])\n",
    "    W = np.zeros([T, n_particles])\n",
    "    W_tilde = np.zeros([T, n_particles])\n",
    "    for t in range(T): # Fix indexing!\n",
    "        \n",
    "        # Sample indeces\n",
    "        a = np.random.choice(n_particles, n_particles, p=w)\n",
    "        \n",
    "        # Sample particles\n",
    "        x = np.random.normal(loc=phi*x[a], scale=sigma)\n",
    "        \n",
    "        #for i in range(n_particles):\n",
    "        w_tilde = gaussian_density(y[t], 0.0, np.sqrt(beta**2 * np.exp(x)) )\n",
    "            \n",
    "        w = w_tilde / np.sum(w_tilde)\n",
    "        \n",
    "        X[t, :] = x\n",
    "        W[t, :] = w\n",
    "        W_tilde[t, :] = w_tilde # used for computing the log-likelihood\n",
    "    return X, W, W_tilde"
   ]
  },
  {
   "cell_type": "code",
   "execution_count": 56,
   "metadata": {},
   "outputs": [],
   "source": [
    "def compute_log_likelihood(w_tilde):\n",
    "    N = w_tilde.shape[-1] \n",
    "    return np.sum( np.log(np.sum(w_tilde, axis=1)) - np.log(N) )"
   ]
  },
  {
   "cell_type": "code",
   "execution_count": null,
   "metadata": {},
   "outputs": [],
   "source": [
    "n_runs = 10\n",
    "logl_list = []\n",
    "\n",
    "N = 1000\n",
    "\n",
    "for i, beta in enumerate(Beta):\n",
    "    print(beta)\n",
    "    theta = [phi, sigma, beta]\n",
    "    logl_beta = []\n",
    "    for j in range(n_runs):\n",
    "        _, _, w_tilde = bootstrap_particle_filter(y, N, theta)\n",
    "        #print(w[-1,:10])\n",
    "        logl = compute_log_likelihood(w_tilde)\n",
    "        #print(\"Log-likelihood: \", logl)\n",
    "        logl_beta.append(logl)\n",
    "    logl_list.append(logl_beta)"
   ]
  },
  {
   "cell_type": "code",
   "execution_count": 60,
   "metadata": {},
   "outputs": [
    {
     "data": {
      "image/png": "[encoded data removed]",
      "text/plain": [
       "<Figure size 432x288 with 1 Axes>"
      ]
     },
     "metadata": {
      "needs_background": "light"
     },
     "output_type": "display_data"
    }
   ],
   "source": [
    "# Plot boxplot\n",
    "beta_list = [str(b) for b in Beta]\n",
    "plt.boxplot(logl_list, showfliers=False, labels=beta_list)\n",
    "plt.show()"
   ]
  },
  {
   "cell_type": "code",
   "execution_count": 33,
   "metadata": {},
   "outputs": [
    {
     "data": {
      "text/plain": [
       "<function matplotlib.pyplot.show(*args, **kw)>"
      ]
     },
     "execution_count": 33,
     "metadata": {},
     "output_type": "execute_result"
    },
    {
     "data": {
      "image/png": "[encoded data removed]",
      "text/plain": [
       "<Figure size 432x288 with 1 Axes>"
      ]
     },
     "metadata": {
      "needs_background": "light"
     },
     "output_type": "display_data"
    }
   ],
   "source": [
    "plt.boxplot(logl_list, showfliers=False)\n",
    "plt.show()"
   ]
  }
 ],
 "metadata": {
  "kernelspec": {
   "display_name": "Python 3",
   "language": "python",
   "name": "python3"
  },
  "language_info": {
   "codemirror_mode": {
    "name": "ipython",
    "version": 3
   },
   "file_extension": ".py",
   "mimetype": "text/x-python",
   "name": "python",
   "nbconvert_exporter": "python",
   "pygments_lexer": "ipython3",
   "version": "3.7.4"
  }
 },
 "nbformat": 4,
 "nbformat_minor": 2
}
