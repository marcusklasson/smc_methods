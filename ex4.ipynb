{
 "cells": [
  {
   "cell_type": "code",
   "execution_count": 8,
   "metadata": {},
   "outputs": [],
   "source": [
    "import numpy as np\n",
    "import matplotlib.pyplot as plt\n",
    "\n",
    "#np.random.seed(40)"
   ]
  },
  {
   "cell_type": "markdown",
   "metadata": {},
   "source": [
    "# P1: Particle Metroplis-Hastings"
   ]
  },
  {
   "cell_type": "code",
   "execution_count": 9,
   "metadata": {},
   "outputs": [],
   "source": [
    "# Generate data\n",
    "T = 50\n",
    "y = np.zeros(T)\n",
    "x = np.random.normal(loc=0.0, scale=1.0, size=1)\n",
    "\n",
    "for t in range(T):\n",
    "    x = np.cos(x) + np.random.normal(loc=0.0, scale=1.0, size=1)\n",
    "    y[t] = x + np.random.normal(loc=0.0, scale=1.0, size=1)\n",
    "\n",
    "def gaussian_density(x, mu=0.0, sigma=1.0):\n",
    "    return 1/np.sqrt(2 * np.pi * sigma**2) * np.exp(-0.5*((x - mu)/sigma)**2 )\n",
    "\n",
    "def gaussian_random_walk(x, sigma=1.0):\n",
    "    return np.random.normal(x, sigma)"
   ]
  },
  {
   "cell_type": "code",
   "execution_count": 65,
   "metadata": {},
   "outputs": [],
   "source": [
    "def bootstrap_particle_filter(y, n_particles):\n",
    "    \n",
    "    T = len(y)\n",
    "    x = np.random.normal(0.0, 1.0, size=n_particles)\n",
    "    w = np.ones(n_particles) / n_particles\n",
    "    w_tilde = np.zeros(n_particles)\n",
    "    \n",
    "    X = np.zeros([T, n_particles])\n",
    "    W = np.zeros([T, n_particles])\n",
    "    W_tilde = np.zeros([T, n_particles])\n",
    "    \n",
    "    for t in range(T):\n",
    "        \n",
    "        # Sample indeces\n",
    "        a = np.random.choice(n_particles, n_particles, p=w)\n",
    "        \n",
    "        # Sample particles\n",
    "        x = np.random.normal(loc=x[a], scale=1.0)\n",
    "        \n",
    "        # Compute unnormalized importance weights\n",
    "        #w_tilde = gaussian_density(y[t], 0.0, np.ones(n_particles))\n",
    "        #w_tilde = gaussian_density(y[t], x, np.ones(n_particles))\n",
    "        w_tilde = gaussian_density(y[t], 0.0, np.sqrt(np.exp(x)))\n",
    "        \n",
    "        # Normalzie importance weights\n",
    "        w = w_tilde / np.sum(w_tilde)\n",
    "        #print(\"w\", w)\n",
    "        \n",
    "        # Store particles and weights\n",
    "        X[t, :] = x\n",
    "        W[t, :] = w\n",
    "        W_tilde[t, :] = w_tilde # used for computing the log-likelihood\n",
    "        \n",
    "    # Compute log-ikelihood\n",
    "    logl = np.sum( np.log(np.sum(W_tilde, axis=1)) - np.log(n_particles) )\n",
    "    return X, W, logl"
   ]
  },
  {
   "cell_type": "code",
   "execution_count": 66,
   "metadata": {},
   "outputs": [],
   "source": [
    "def mh_algorithm(M, n_particles):\n",
    "    theta_curr = np.random.normal(0.0, 1.0)\n",
    "    _, _, z_hat_curr = bootstrap_particle_filter(y, n_particles=n_particles)\n",
    "    \n",
    "    Theta = np.zeros(M)\n",
    "    Z_hat = np.zeros(M)\n",
    "    count = 0\n",
    "    for m in range(M):\n",
    "        \n",
    "        # Draw sample from proposal\n",
    "        theta = gaussian_random_walk(theta_curr)\n",
    "        \n",
    "        # Sample from uniform distribution\n",
    "        u = np.random.uniform(0.0, 1.0)\n",
    "        \n",
    "        # Compute acceptance probability\n",
    "        x, w, z_hat = bootstrap_particle_filter(y, n_particles)\n",
    "        \n",
    "        p_theta = gaussian_density(theta)\n",
    "        p_theta_curr = gaussian_density(theta_curr)\n",
    "        \n",
    "        q_theta = gaussian_density(theta, theta_curr)\n",
    "        q_theta_curr = gaussian_density(theta_curr, theta)\n",
    "        \n",
    "        #print(\"numerator: \", (z_hat * p_theta * q_theta_curr))\n",
    "        #print(\"denominator: \", z_hat_curr * p_theta_curr * q_theta)\n",
    "        #print(\"Accept prob: \", (z_hat * p_theta * q_theta_curr)/(z_hat_curr * p_theta_curr * q_theta))\n",
    "        alpha = np.minimum(1.0, (z_hat * p_theta * q_theta_curr)/(z_hat_curr * p_theta_curr * q_theta))\n",
    "        \n",
    "        # Set sampled theta and z_hat as current\n",
    "        if u <= alpha:\n",
    "            theta_curr = theta\n",
    "            z_hat_curr = z_hat\n",
    "            count += 1\n",
    "        Theta[m] = theta_curr\n",
    "        Z_hat[m] = z_hat_curr\n",
    "    print(\"Accepted samples: \", count)\n",
    "    return Theta, Z_hat"
   ]
  },
  {
   "cell_type": "code",
   "execution_count": 67,
   "metadata": {},
   "outputs": [
    {
     "name": "stdout",
     "output_type": "stream",
     "text": [
      "Accepted samples:  3447\n"
     ]
    },
    {
     "data": {
      "image/png": "[encoded data removed]",
      "text/plain": [
       "<Figure size 432x288 with 1 Axes>"
      ]
     },
     "metadata": {
      "needs_background": "light"
     },
     "output_type": "display_data"
    }
   ],
   "source": [
    "M = 5000\n",
    "N = 200\n",
    "Theta, Z_hat = mh_algorithm(M, N)\n",
    "plt.hist(Theta, bins=50, density=True)\n",
    "plt.xlabel(\"$\\Theta$\")\n",
    "plt.show()\n",
    "# Something is wrong here!\n",
    "# The plot should be bimodal over theta=1 and -1!\n",
    "# Maybe try another particle filter, like fully adapted PF"
   ]
  }
 ],
 "metadata": {
  "kernelspec": {
   "display_name": "Python 3",
   "language": "python",
   "name": "python3"
  },
  "language_info": {
   "codemirror_mode": {
    "name": "ipython",
    "version": 3
   },
   "file_extension": ".py",
   "mimetype": "text/x-python",
   "name": "python",
   "nbconvert_exporter": "python",
   "pygments_lexer": "ipython3",
   "version": "3.7.4"
  }
 },
 "nbformat": 4,
 "nbformat_minor": 2
}
