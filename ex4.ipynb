{
 "cells": [
  {
   "cell_type": "markdown",
   "metadata": {},
   "source": [
    "# P1: Particle Metroplis-Hastings"
   ]
  },
  {
   "cell_type": "code",
   "execution_count": 59,
   "metadata": {},
   "outputs": [],
   "source": [
    "import numpy as np\n",
    "import matplotlib.pyplot as plt\n",
    "from scipy.stats import norm\n",
    "\n",
    "# Generate data\n",
    "T = 50\n",
    "y = np.zeros(T)\n",
    "x = np.random.normal(loc=0.0, scale=1.0, size=1)\n",
    "theta = -1\n",
    "\n",
    "for t in range(T):\n",
    "    x = np.cos(theta*x) + np.random.normal(loc=0.0, scale=1.0, size=1)\n",
    "    y[t] = x + np.random.normal(loc=0.0, scale=1.0, size=1)\n",
    "\n",
    "def gaussian_random_walk(x, sigma=1.0):\n",
    "    return np.random.normal(x, sigma)"
   ]
  },
  {
   "cell_type": "code",
   "execution_count": 63,
   "metadata": {},
   "outputs": [],
   "source": [
    "def bootstrap_particle_filter(y, n_particles, theta=1.0):\n",
    "    \n",
    "    # Initilialization\n",
    "    T = len(y)\n",
    "    logl = 0.0\n",
    "    x = np.zeros([T+1, n_particles])\n",
    "    w = np.zeros([T+1, n_particles])\n",
    "    x[0, :] = np.random.normal(0.0, 1.0, size=n_particles)\n",
    "    w[0, :] = np.ones(n_particles) / n_particles\n",
    "    \n",
    "    for t in range(1, T+1):\n",
    "        \n",
    "        a = np.random.choice(n_particles, n_particles, p=w[t-1, :])\n",
    "        x[t, :] = np.cos(theta*x[t-1, a]) + np.random.normal(loc=0.0, scale=1.0, size=n_particles)\n",
    "        log_w_tilde = x[t, :] + np.random.normal(loc=0.0, scale=1.0, size=n_particles) \n",
    "        log_w_tilde = norm.logpdf(y[t-1], loc=x[t, :], scale=1.0)\n",
    "        \n",
    "        # Compute log-liklihood with logsumexp trick\n",
    "        max_w_tilde = np.max(log_w_tilde)\n",
    "        log_w_tilde = log_w_tilde - max_w_tilde # subtract with maximum value of log weights\n",
    "        logl += max_w_tilde + np.log(np.sum(np.exp(log_w_tilde))) - np.log(n_particles)\n",
    "        \n",
    "        # normalize weights\n",
    "        w[t, :] = np.exp(log_w_tilde) / np.sum(np.exp(log_w_tilde))                          \n",
    "    return x, w, logl\n"
   ]
  },
  {
   "cell_type": "code",
   "execution_count": 77,
   "metadata": {},
   "outputs": [],
   "source": [
    "def particle_metropolis_hastings(y, M=10000, N=20):\n",
    "    \n",
    "    Z_hat = np.zeros(M)\n",
    "    theta = np.zeros(M)\n",
    "    \n",
    "    theta[0] = np.random.normal(0.0, 1.0)\n",
    "    _, _, z_hat = bootstrap_particle_filter(y, N, theta[0])\n",
    "    Z_hat[0] = z_hat\n",
    "\n",
    "    count = 0\n",
    "    for m in range(1, M):\n",
    "        \n",
    "        # Draw sample from proposal\n",
    "        theta_sample = gaussian_random_walk(theta[m-1])\n",
    "        \n",
    "        # Sample from uniform distribution\n",
    "        u = np.random.uniform(0.0, 1.0)\n",
    "        \n",
    "        # Compute acceptance probability\n",
    "        _, _, z_hat_sample = bootstrap_particle_filter(y, N, theta_sample)\n",
    "        \n",
    "        # Using gaussian random walk as proposal q should cancel out when computing acceptance probability alpha\n",
    "        p_theta = norm.pdf(theta[m-1], loc=0.0, scale=1.0)\n",
    "        p_theta_curr = norm.pdf(theta_sample, loc=0.0, scale=1.0)\n",
    "        q_theta = norm.pdf(theta[m-1], loc=theta_sample, scale=1.0) \n",
    "        q_theta_curr = norm.pdf(theta_sample, loc=theta[m-1], scale=1.0) \n",
    "        \n",
    "        # We have to take exponential of z_hat since it's the log-likelihood\n",
    "        # We could compute logpdf instead of pdf and add the terms, this might be more numerically stable too\n",
    "        num = np.exp(z_hat_sample) * p_theta_curr * q_theta\n",
    "        den = np.exp(Z_hat[m-1]) * p_theta * q_theta_curr\n",
    "        alpha = np.minimum(1.0, num /den)\n",
    "        \n",
    "        # Set sampled theta and z_hat as current\n",
    "        if u <= alpha:\n",
    "            # Accept sampled theta and log-likelihood z_hat\n",
    "            theta[m] = theta_sample\n",
    "            Z_hat[m] = z_hat_sample\n",
    "            count += 1\n",
    "        else: \n",
    "            theta[m] = theta[m-1]\n",
    "            Z_hat[m] = Z_hat[m-1]\n",
    "            \n",
    "        #print(\"theta: \", theta[m])\n",
    "    print(\"Accepted samples: \", count)\n",
    "    return theta, Z_hat#Theta, Z_hat"
   ]
  },
  {
   "cell_type": "code",
   "execution_count": 74,
   "metadata": {},
   "outputs": [
    {
     "name": "stdout",
     "output_type": "stream",
     "text": [
      "Accepted samples:  720\n"
     ]
    },
    {
     "data": {
      "image/png": "[encoded data removed]",
      "text/plain": [
       "<Figure size 432x288 with 1 Axes>"
      ]
     },
     "metadata": {
      "needs_background": "light"
     },
     "output_type": "display_data"
    }
   ],
   "source": [
    "M = 5000\n",
    "N = 20\n",
    "Theta, Z_hat = particle_metropolis_hastings(y, M, N)\n",
    "plt.hist(Theta[1000:], bins=50, density=True)\n",
    "plt.xlabel(\"$\\Theta$\")\n",
    "plt.show()"
   ]
  },
  {
   "cell_type": "markdown",
   "metadata": {},
   "source": [
    "## P2: Conditional particle filter"
   ]
  },
  {
   "cell_type": "code",
   "execution_count": null,
   "metadata": {},
   "outputs": [],
   "source": []
  }
 ],
 "metadata": {
  "kernelspec": {
   "display_name": "Python 3",
   "language": "python",
   "name": "python3"
  },
  "language_info": {
   "codemirror_mode": {
    "name": "ipython",
    "version": 3
   },
   "file_extension": ".py",
   "mimetype": "text/x-python",
   "name": "python",
   "nbconvert_exporter": "python",
   "pygments_lexer": "ipython3",
   "version": "3.7.1"
  }
 },
 "nbformat": 4,
 "nbformat_minor": 2
}
