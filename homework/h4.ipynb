{
 "cells": [
  {
   "cell_type": "markdown",
   "metadata": {},
   "source": [
    "## H.4 SMC Sampler"
   ]
  },
  {
   "cell_type": "code",
   "execution_count": 19,
   "metadata": {},
   "outputs": [],
   "source": [
    "import numpy as np\n",
    "import matplotlib.pyplot as plt\n",
    "\n",
    "def target(x1, x2):\n",
    "    # Computing pdf of unnormalized target distribution\n",
    "    ind_x1 = (x1 >= 0.0) & (x1 <= 1.0) \n",
    "    ind_x2 = (x2 >= 0.0) & (x2 <= 1.0)\n",
    "    return ind_x1 * ind_x2 * np.cos(x1 * np.pi)**2 * np.sin(x2 * 3 * np.pi)**6 * np.exp(-30*(x1**2 + x2**2))"
   ]
  },
  {
   "cell_type": "code",
   "execution_count": 31,
   "metadata": {},
   "outputs": [
    {
     "name": "stdout",
     "output_type": "stream",
     "text": [
      "[1.39181602e-001 1.98356619e-022 2.15339512e-119 1.14694999e-039\n",
      " 1.59266844e-002]\n",
      "64\n"
     ]
    }
   ],
   "source": [
    "x1 = np.array([0.1, 0.9, 1.0, 0.5, 0.25])\n",
    "x2 = np.array([0.1, 0.9, 1.0, 0.5, 0.1])\n",
    "print(target(x1, x2))\n",
    "print(2**6)"
   ]
  },
  {
   "cell_type": "code",
   "execution_count": 38,
   "metadata": {},
   "outputs": [
    {
     "data": {
      "image/png": "[encoded data removed]",
      "text/plain": [
       "<Figure size 432x288 with 1 Axes>"
      ]
     },
     "metadata": {
      "needs_background": "light"
     },
     "output_type": "display_data"
    }
   ],
   "source": [
    "x = np.linspace(-.5, 1.5, 100); y = np.linspace(-.5, 1.5, 100)\n",
    "X, Y = np.meshgrid(x, y)\n",
    "\n",
    "# Pack X and Y into a single 3-dimensional array\n",
    "pos = np.empty(X.shape + (2,))\n",
    "pos[:, :, 0] = X\n",
    "pos[:, :, 1] = Y\n",
    "Z = target(x1=pos[:, :, 0], x2=pos[:, :, 1])\n",
    "plt.contour(X, Y, Z)\n",
    "plt.xlabel(\"$x_1$\", fontsize=12); plt.ylabel(\"$x_2$\", fontsize=12)\n",
    "plt.show()"
   ]
  }
 ],
 "metadata": {
  "kernelspec": {
   "display_name": "Python 3",
   "language": "python",
   "name": "python3"
  },
  "language_info": {
   "codemirror_mode": {
    "name": "ipython",
    "version": 3
   },
   "file_extension": ".py",
   "mimetype": "text/x-python",
   "name": "python",
   "nbconvert_exporter": "python",
   "pygments_lexer": "ipython3",
   "version": "3.6.7"
  }
 },
 "nbformat": 4,
 "nbformat_minor": 2
}
