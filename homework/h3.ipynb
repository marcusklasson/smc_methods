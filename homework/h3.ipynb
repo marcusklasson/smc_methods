{
 "cells": [
  {
   "cell_type": "code",
   "execution_count": 1,
   "metadata": {},
   "outputs": [
    {
     "data": {
      "text/plain": [
       "<Figure size 1400x500 with 1 Axes>"
      ]
     },
     "metadata": {},
     "output_type": "display_data"
    }
   ],
   "source": [
    "import os\n",
    "import numpy as np\n",
    "import matplotlib.pyplot as plt\n",
    "from scipy.stats import norm, invgamma\n",
    "\n",
    "# Load data\n",
    "path = os.getcwd()\n",
    "y = np.genfromtxt(path + '/OMXLogReturns.csv') \n",
    "\n",
    "# Plot observations\n",
    "fig, ax = plt.subplots(figsize=(14, 5))\n",
    "ax.plot(y)\n",
    "ax.set_xlabel(\"Time $t$\"); ax.set_ylabel(\"Observation $y_t$\");\n",
    "plt.show()"
   ]
  },
  {
   "cell_type": "markdown",
   "metadata": {},
   "source": [
    "## (a) Estimate loglikelihood for different \\phi"
   ]
  },
  {
   "cell_type": "code",
   "execution_count": 2,
   "metadata": {},
   "outputs": [],
   "source": [
    "def bootstrap_particle_filter(y, N, theta, resampling=True):\n",
    "    \n",
    "    # Static parameters\n",
    "    phi = theta[0] \n",
    "    sigma = theta[1] \n",
    "    beta = theta[2]\n",
    "    \n",
    "    # Initilialization\n",
    "    T = len(y)\n",
    "    logl = 0.0\n",
    "    x = np.zeros([T+1, N])\n",
    "    w = np.zeros([T+1, N])\n",
    "    x[0, :] = np.random.normal(0.0, 1.0, size=N)\n",
    "    w[0, :] = np.ones(N) / N\n",
    "    \n",
    "    for t in range(1, T+1):\n",
    "        \n",
    "        if resampling:\n",
    "            x[t-1, :] = np.random.choice(x[t-1, :], N, p=w[t-1, :])\n",
    "            \n",
    "        x[t, :] = np.random.normal(loc=phi*x[t-1, :], scale=sigma, size=N)\n",
    "        log_w_tilde = norm.logpdf(y[t-1], loc=0.0, scale=beta * np.exp(x[t,:] / 2) )\n",
    "        \n",
    "        # Compute log-liklihood with logsumexp trick\n",
    "        max_w_tilde = np.max(log_w_tilde)\n",
    "        log_w_tilde = log_w_tilde - max_w_tilde # subtract with maximum value of log weights\n",
    "        logl += max_w_tilde + np.log(np.sum(np.exp(log_w_tilde))) - np.log(N)\n",
    "        \n",
    "        # normalize weights\n",
    "        w[t, :] = np.exp(log_w_tilde) / np.sum(np.exp(log_w_tilde))                          \n",
    "    return x, w, logl"
   ]
  },
  {
   "cell_type": "code",
   "execution_count": 5,
   "metadata": {},
   "outputs": [
    {
     "data": {
      "image/png": "[encoded data removed]",
      "text/plain": [
       "<Figure size 864x360 with 1 Axes>"
      ]
     },
     "metadata": {
      "needs_background": "light"
     },
     "output_type": "display_data"
    }
   ],
   "source": [
    "# Static parameters\n",
    "Phi = [0.0, 0.1, 0.25, 0.5, 0.7, 0.75, 0.8, 0.85, 0.9, 0.95, 1.0]\n",
    "sigma = 0.16\n",
    "beta = 0.7\n",
    "\n",
    "n_runs = 10\n",
    "logl_list = []\n",
    "N = 500\n",
    "\n",
    "for i, phi in enumerate(Phi):\n",
    "    theta = [phi, sigma, beta]\n",
    "    logl_phi = []\n",
    "    for j in range(n_runs):\n",
    "        x, w, logl = bootstrap_particle_filter(y, N, theta, resampling=True)\n",
    "        logl_phi.append(logl)\n",
    "    logl_list.append(logl_phi)\n",
    "\n",
    "# Plot boxplot\n",
    "phi_list = [str(phi) for phi in Phi]\n",
    "fig, ax = plt.subplots(figsize=(12, 5))\n",
    "ax.boxplot(logl_list, showfliers=False, labels=phi_list)\n",
    "ax.set_xlabel(r\"$\\phi$\"); ax.set_ylabel(\"Log-Likelihood\"); \n",
    "plt.show()\n",
    "fig.savefig('h3_boxplot.png')"
   ]
  },
  {
   "cell_type": "markdown",
   "metadata": {},
   "source": [
    "## (b) Particle Metropolis-Hastings"
   ]
  },
  {
   "cell_type": "code",
   "execution_count": 12,
   "metadata": {},
   "outputs": [],
   "source": [
    "def gaussian_random_walk(x, scale=0.1):\n",
    "    notfound = True # For finding positive sample\n",
    "    while notfound:\n",
    "        xs = np.random.normal(loc=x, scale=scale)\n",
    "        if xs > 0.0:\n",
    "            notfound = False\n",
    "    return xs \n",
    "\n",
    "def particle_metropolis_hastings(y, M=10000, N=20):\n",
    "    \n",
    "    logl = np.zeros(M)\n",
    "    theta_proposed = np.zeros([M,2]) # store sigma2, beta2\n",
    "    theta = np.zeros([M,2]) # store sigma2, beta2\n",
    "    phi = 0.985 # constant\n",
    "    \n",
    "    # Initialization\n",
    "    theta[0, 0] = 0.1 # sigma2\n",
    "    theta[0, 1] = 1.0 # Beta2\n",
    "    theta_proposed[0,:] = theta[0,:]\n",
    "    params = [phi, np.sqrt(theta[0,0]), np.sqrt(theta[0,1])]\n",
    "    _, _, logl_proposed = bootstrap_particle_filter(y, N, theta=params)\n",
    "    logl[0] = logl_proposed\n",
    "\n",
    "    count = 0\n",
    "    for m in range(1, M):\n",
    "        \n",
    "        # Draw sample from proposal distribution\n",
    "        # Note that sigma2 and beta2 has to be positive!\n",
    "        # Accept proposed samples when both are positive\n",
    "        \n",
    "        # Sample sigma2 with gaussian random walk\n",
    "        theta_proposed[m, 0] = gaussian_random_walk(theta[m-1, 0])\n",
    "        # Sample beta2 with gaussian random walk\n",
    "        theta_proposed[m, 1] = gaussian_random_walk(theta[m-1, 1])\n",
    "        \n",
    "        # Sample from uniform distribution\n",
    "        u = np.random.uniform(0.0, 1.0)\n",
    "        \n",
    "        # Run BPF to get loglikelihood estimate\n",
    "        params = [phi, np.sqrt(theta_proposed[m,0]), np.sqrt(theta_proposed[m,1])] \n",
    "        _, _, logl_proposed = bootstrap_particle_filter(y, N, theta=params)\n",
    "        \n",
    "        # Using gaussian random walk as proposal q should cancel out\n",
    "        # when computing acceptance probability alpha\n",
    "        logl_difference = logl_proposed - logl[m-1]\n",
    "        \n",
    "        # Compute log prior difference\n",
    "        # scale in scipy.stats.invgamma is b\n",
    "        log_prior_sigma2 = invgamma.logpdf(x=theta_proposed[m,0], a=0.01, scale=0.01 )\n",
    "        log_prior_sigma2 = log_prior_sigma2 - invgamma.logpdf(x=theta[m-1, 0], a=0.01, scale=0.01 )\n",
    "        log_prior_beta2 = invgamma.logpdf(x=theta_proposed[m,1], a=0.01, scale=0.01) \n",
    "        log_prior_beta2 = log_prior_sigma2 - invgamma.logpdf(x=theta[m-1,1], a=0.01, scale=0.01 )\n",
    "        log_prior = log_prior_sigma2 + log_prior_beta2\n",
    "        \n",
    "        alpha = np.minimum(1.0, np.exp(logl_difference + log_prior) )\n",
    "        if u <= alpha:\n",
    "            theta[m, :] = theta_proposed[m, :]\n",
    "            logl[m] = logl_proposed\n",
    "        else:\n",
    "            theta[m, :] = theta[m-1, :]\n",
    "            logl[m] = logl[m-1] \n",
    "        if (m%1000)==0:\n",
    "            print(\"Number of samples \", m)\n",
    "    return theta, logl"
   ]
  },
  {
   "cell_type": "code",
   "execution_count": 13,
   "metadata": {},
   "outputs": [
    {
     "name": "stdout",
     "output_type": "stream",
     "text": [
      "Number of samples  1000\n",
      "Number of samples  2000\n",
      "Number of samples  3000\n",
      "Number of samples  4000\n",
      "Number of samples  5000\n",
      "Number of samples  6000\n",
      "Number of samples  7000\n",
      "Number of samples  8000\n",
      "Number of samples  9000\n"
     ]
    }
   ],
   "source": [
    "M = 10000 # number of samples from PMH\n",
    "N = 500 # number of particles in BPF\n",
    "\n",
    "theta, logl = particle_metropolis_hastings(y, M, N)"
   ]
  },
  {
   "cell_type": "code",
   "execution_count": 19,
   "metadata": {},
   "outputs": [
    {
     "data": {
      "image/png": "[encoded data removed]",
      "text/plain": [
       "<Figure size 1008x360 with 2 Axes>"
      ]
     },
     "metadata": {
      "needs_background": "light"
     },
     "output_type": "display_data"
    }
   ],
   "source": [
    "burnin = 5000\n",
    "fig, ax = plt.subplots(nrows=1, ncols=2, figsize=(14, 5))\n",
    "ax[0].hist(np.sqrt(theta[burnin:,0]), bins=50, density=True)\n",
    "ax[0].set_xlabel(r\"$\\sigma$\"); ax[0].set_ylabel(r\"$p(\\sigma | y)$\");\n",
    "ax[1].hist(np.sqrt(theta[burnin:,1]), bins=50, density=True)\n",
    "ax[1].set_xlabel(r\"$\\beta$\"); ax[1].set_ylabel(r\"$p(\\beta | y)$\");\n",
    "plt.show()\n",
    "fig.savefig('h3_marginals.png')"
   ]
  },
  {
   "cell_type": "markdown",
   "metadata": {},
   "source": [
    "## (c) Particle Gibbs sampling"
   ]
  },
  {
   "cell_type": "code",
   "execution_count": 20,
   "metadata": {},
   "outputs": [],
   "source": [
    "def particle_gibbs_bpf(y, x_ref, N, theta, resampling='multinomial'):\n",
    "    # Static parameters\n",
    "    phi = theta[0] \n",
    "    sigma = np.sqrt(theta[1]) \n",
    "    beta = np.sqrt(theta[2])\n",
    "    \n",
    "    # Initilialization\n",
    "    T = len(y)\n",
    "    x = np.zeros([T+1, N])\n",
    "    w = np.zeros([T+1, N])\n",
    "    xs = np.random.normal(0.0, 1.0, size=N-1)\n",
    "    x[0, :N-1] = xs #np.random.normal(0.0, 1, size=N-1)\n",
    "    x[0, -1] = x_ref[0] # set final particle as x0 from reference trajectory\n",
    "    \n",
    "    w[0, :] = np.ones(N) / N\n",
    "    ancs = np.zeros([T, N], dtype=int)\n",
    "    ancs[:, -1] = N-1\n",
    "    \n",
    "    for t in range(1, T+1):\n",
    "        \n",
    "        # TODO: Weights seem to explode somewhere here!\n",
    "        if resampling == 'multinomial':\n",
    "            a = multinomial_resampling(w=w[t-1, :])\n",
    "            #ancs[t-1, :N-1] = a[:N-1]\n",
    "        elif resampling == 'systematic':\n",
    "            a = systematic_resampling(w=w[t-1, :])\n",
    "            #ancs[t-1, :N-1] = a[:N-1]\n",
    "        else:\n",
    "            #a = np.random.choice(N, size=N-1, p=w[t-1, :])\n",
    "            a = np.linspace(0, N-1, N, dtype=int)\n",
    "        ancs[t-1, :N-1] = a[:N-1]\n",
    "        \n",
    "        #print(\"x: \", x[t-1, :])\n",
    "        #print(\"x sampled: \", x[t-1, a[:N-1]])\n",
    "        xs = np.random.normal(loc=phi*x[t-1, a[:N-1]], scale=sigma, size=N-1)\n",
    "        \n",
    "        # Add sampled x and reference trajectory\n",
    "        x[t, :N-1] = xs\n",
    "        x[t, -1] = x_ref[t]\n",
    "        ancs[t-1, -1] = N-1\n",
    "        \n",
    "        log_w_tilde = norm.logpdf(y[t-1], loc=0.0, scale=beta * np.exp(x[t,:] / 2) )\n",
    "        max_w_tilde = np.max(log_w_tilde)\n",
    "        log_w_tilde = log_w_tilde - max_w_tilde # subtract with maximum value of log weights\n",
    "        \n",
    "        # normalize weights\n",
    "        w[t, :] = np.exp(log_w_tilde) / np.sum(np.exp(log_w_tilde))  \n",
    "        #print(\"weights: \", w[t,:])\n",
    "    \n",
    "    # Draw trajectory index from N and output that trajectory\n",
    "    b = np.random.choice(N, size=1, p=w[-1, :])[0] # returns a list so pick first element\n",
    "    #print(\"x: \", x)\n",
    "    #print(x[:, b])\n",
    "    x_star = x[:, b]\n",
    "    return x_star\n",
    "    \n",
    "\n",
    "def particle_gibbs_sampling(y, M, N):\n",
    "    \n",
    "    T = len(y)\n",
    "    theta = np.zeros([M,2]) # store sigma2, beta2\n",
    "    phi = 0.985 # constant\n",
    "    \n",
    "    # Parameters of inverse Gamma distributions for both sigma2 and beta2\n",
    "    a = b = 0.01\n",
    "    \n",
    "    # Initialize parameters\n",
    "    theta[0, 0] = 0.1\n",
    "    theta[0, 1] = 1.0\n",
    "    params = [phi, np.sqrt(theta[0, 0]), np.sqrt(theta[0, 1])]\n",
    "    \n",
    "    # Generate reference trajectory\n",
    "    #x = np.zeros([T+1, M])\n",
    "    x = np.zeros([M, T+1])\n",
    "    x[0, 0] = np.random.normal(loc=0.0, scale=1.0, size=1)\n",
    "    for t in range(1, T+1):\n",
    "        x[0, t] = np.random.normal(loc=x[0, t-1], scale=1.0)\n",
    "    \n",
    "    for m in range(1, M):\n",
    "        \n",
    "        # Draw samples of sigma2 and beta2 from inverse Gamma distributions\n",
    "        #b_post = b + 0.5 * np.sum( (x[1:, m-1] - phi*x[:T, m-1] )**2 )\n",
    "        b_post = b + 0.5 * np.sum( (x[m-1, 1:] - phi*x[m-1, :T] )**2 )\n",
    "        #print(\"hej: \", x[m-1, 1:] - phi*x[m-1, :T] )\n",
    "        #print(\"x diff: \", x[m-1, 1:] - phi*x[m-1, :T])\n",
    "        #print(\"sum: \", np.sum( x[m-1, 1:] - phi*x[m-1, :T] )**2 )\n",
    "        #print('sigma var:', b_post)\n",
    "        sigma2 = invgamma.rvs(a=a + T/2, scale=b_post)\n",
    "        \n",
    "        beta2 = invgamma.rvs(a=a + T/2, scale=b + 0.5 * np.sum( np.exp(-x[m-1,1:]) * y**2) )\n",
    "        #print('beta var:', b + 0.5 * np.sum( np.exp(-x[m-1,1:]) * y**2))\n",
    "        theta[m, 0] = sigma2; theta[m, 1] = beta2\n",
    "        \n",
    "        # Run BPF to sample particle trajectory x_{0:T}\n",
    "        params = [phi, sigma2, beta2]\n",
    "        x[m, :] = particle_gibbs_bpf(y, x[m-1, :], N, theta=params, resampling='')\n",
    "        #print(\"x from bpf: \", x[m, :])\n",
    "        #print(\"\\n\")\n",
    "    return theta, x\n",
    "        "
   ]
  },
  {
   "cell_type": "code",
   "execution_count": 21,
   "metadata": {},
   "outputs": [
    {
     "name": "stderr",
     "output_type": "stream",
     "text": [
      "C:\\Users\\Marcus\\Miniconda3\\envs\\smc\\lib\\site-packages\\scipy\\stats\\_continuous_distns.py:166: RuntimeWarning: overflow encountered in square\n",
      "  return -x**2 / 2.0 - _norm_pdf_logC\n",
      "C:\\Users\\Marcus\\Miniconda3\\envs\\smc\\lib\\site-packages\\ipykernel_launcher.py:42: RuntimeWarning: overflow encountered in multiply\n",
      "C:\\Users\\Marcus\\Miniconda3\\envs\\smc\\lib\\site-packages\\scipy\\stats\\_distn_infrastructure.py:1762: RuntimeWarning: divide by zero encountered in true_divide\n",
      "  x = np.asarray((x - loc)/scale, dtype=dtyp)\n"
     ]
    },
    {
     "ename": "ValueError",
     "evalue": "probabilities contain NaN",
     "output_type": "error",
     "traceback": [
      "\u001b[1;31m---------------------------------------------------------------------------\u001b[0m",
      "\u001b[1;31mValueError\u001b[0m                                Traceback (most recent call last)",
      "\u001b[1;32m<ipython-input-21-6130633b33d7>\u001b[0m in \u001b[0;36m<module>\u001b[1;34m\u001b[0m\n\u001b[0;32m      3\u001b[0m \u001b[0mN\u001b[0m \u001b[1;33m=\u001b[0m \u001b[1;36m10\u001b[0m \u001b[1;31m# number of particles in BPF\u001b[0m\u001b[1;33m\u001b[0m\u001b[1;33m\u001b[0m\u001b[0m\n\u001b[0;32m      4\u001b[0m \u001b[1;33m\u001b[0m\u001b[0m\n\u001b[1;32m----> 5\u001b[1;33m \u001b[0mtheta\u001b[0m\u001b[1;33m,\u001b[0m \u001b[0mx\u001b[0m \u001b[1;33m=\u001b[0m \u001b[0mparticle_gibbs_sampling\u001b[0m\u001b[1;33m(\u001b[0m\u001b[0my\u001b[0m\u001b[1;33m[\u001b[0m\u001b[1;33m:\u001b[0m\u001b[1;36m3\u001b[0m\u001b[1;33m]\u001b[0m\u001b[1;33m,\u001b[0m \u001b[0mM\u001b[0m\u001b[1;33m,\u001b[0m \u001b[0mN\u001b[0m\u001b[1;33m)\u001b[0m\u001b[1;33m\u001b[0m\u001b[1;33m\u001b[0m\u001b[0m\n\u001b[0m\u001b[0;32m      6\u001b[0m \u001b[0mprint\u001b[0m\u001b[1;33m(\u001b[0m\u001b[0mtheta\u001b[0m\u001b[1;33m)\u001b[0m\u001b[1;33m\u001b[0m\u001b[1;33m\u001b[0m\u001b[0m\n",
      "\u001b[1;32m<ipython-input-20-e4da6e4d862f>\u001b[0m in \u001b[0;36mparticle_gibbs_sampling\u001b[1;34m(y, M, N)\u001b[0m\n\u001b[0;32m     94\u001b[0m         \u001b[1;31m# Run BPF to sample particle trajectory x_{0:T}\u001b[0m\u001b[1;33m\u001b[0m\u001b[1;33m\u001b[0m\u001b[1;33m\u001b[0m\u001b[0m\n\u001b[0;32m     95\u001b[0m         \u001b[0mparams\u001b[0m \u001b[1;33m=\u001b[0m \u001b[1;33m[\u001b[0m\u001b[0mphi\u001b[0m\u001b[1;33m,\u001b[0m \u001b[0msigma2\u001b[0m\u001b[1;33m,\u001b[0m \u001b[0mbeta2\u001b[0m\u001b[1;33m]\u001b[0m\u001b[1;33m\u001b[0m\u001b[1;33m\u001b[0m\u001b[0m\n\u001b[1;32m---> 96\u001b[1;33m         \u001b[0mx\u001b[0m\u001b[1;33m[\u001b[0m\u001b[0mm\u001b[0m\u001b[1;33m,\u001b[0m \u001b[1;33m:\u001b[0m\u001b[1;33m]\u001b[0m \u001b[1;33m=\u001b[0m \u001b[0mparticle_gibbs_bpf\u001b[0m\u001b[1;33m(\u001b[0m\u001b[0my\u001b[0m\u001b[1;33m,\u001b[0m \u001b[0mx\u001b[0m\u001b[1;33m[\u001b[0m\u001b[0mm\u001b[0m\u001b[1;33m-\u001b[0m\u001b[1;36m1\u001b[0m\u001b[1;33m,\u001b[0m \u001b[1;33m:\u001b[0m\u001b[1;33m]\u001b[0m\u001b[1;33m,\u001b[0m \u001b[0mN\u001b[0m\u001b[1;33m,\u001b[0m \u001b[0mtheta\u001b[0m\u001b[1;33m=\u001b[0m\u001b[0mparams\u001b[0m\u001b[1;33m,\u001b[0m \u001b[0mresampling\u001b[0m\u001b[1;33m=\u001b[0m\u001b[1;34m''\u001b[0m\u001b[1;33m)\u001b[0m\u001b[1;33m\u001b[0m\u001b[1;33m\u001b[0m\u001b[0m\n\u001b[0m\u001b[0;32m     97\u001b[0m         \u001b[1;31m#print(\"x from bpf: \", x[m, :])\u001b[0m\u001b[1;33m\u001b[0m\u001b[1;33m\u001b[0m\u001b[1;33m\u001b[0m\u001b[0m\n\u001b[0;32m     98\u001b[0m         \u001b[1;31m#print(\"\\n\")\u001b[0m\u001b[1;33m\u001b[0m\u001b[1;33m\u001b[0m\u001b[1;33m\u001b[0m\u001b[0m\n",
      "\u001b[1;32m<ipython-input-20-e4da6e4d862f>\u001b[0m in \u001b[0;36mparticle_gibbs_bpf\u001b[1;34m(y, x_ref, N, theta, resampling)\u001b[0m\n\u001b[0;32m     49\u001b[0m \u001b[1;33m\u001b[0m\u001b[0m\n\u001b[0;32m     50\u001b[0m     \u001b[1;31m# Draw trajectory index from N and output that trajectory\u001b[0m\u001b[1;33m\u001b[0m\u001b[1;33m\u001b[0m\u001b[1;33m\u001b[0m\u001b[0m\n\u001b[1;32m---> 51\u001b[1;33m     \u001b[0mb\u001b[0m \u001b[1;33m=\u001b[0m \u001b[0mnp\u001b[0m\u001b[1;33m.\u001b[0m\u001b[0mrandom\u001b[0m\u001b[1;33m.\u001b[0m\u001b[0mchoice\u001b[0m\u001b[1;33m(\u001b[0m\u001b[0mN\u001b[0m\u001b[1;33m,\u001b[0m \u001b[0msize\u001b[0m\u001b[1;33m=\u001b[0m\u001b[1;36m1\u001b[0m\u001b[1;33m,\u001b[0m \u001b[0mp\u001b[0m\u001b[1;33m=\u001b[0m\u001b[0mw\u001b[0m\u001b[1;33m[\u001b[0m\u001b[1;33m-\u001b[0m\u001b[1;36m1\u001b[0m\u001b[1;33m,\u001b[0m \u001b[1;33m:\u001b[0m\u001b[1;33m]\u001b[0m\u001b[1;33m)\u001b[0m\u001b[1;33m[\u001b[0m\u001b[1;36m0\u001b[0m\u001b[1;33m]\u001b[0m \u001b[1;31m# returns a list so pick first element\u001b[0m\u001b[1;33m\u001b[0m\u001b[1;33m\u001b[0m\u001b[0m\n\u001b[0m\u001b[0;32m     52\u001b[0m     \u001b[1;31m#print(\"x: \", x)\u001b[0m\u001b[1;33m\u001b[0m\u001b[1;33m\u001b[0m\u001b[1;33m\u001b[0m\u001b[0m\n\u001b[0;32m     53\u001b[0m     \u001b[1;31m#print(x[:, b])\u001b[0m\u001b[1;33m\u001b[0m\u001b[1;33m\u001b[0m\u001b[1;33m\u001b[0m\u001b[0m\n",
      "\u001b[1;32mmtrand.pyx\u001b[0m in \u001b[0;36mmtrand.RandomState.choice\u001b[1;34m()\u001b[0m\n",
      "\u001b[1;31mValueError\u001b[0m: probabilities contain NaN"
     ]
    }
   ],
   "source": [
    "np.random.seed(42)\n",
    "M = 1000 # number of samples from Particle Gibbs\n",
    "N = 10 # number of particles in BPF\n",
    "\n",
    "theta, x = particle_gibbs_sampling(y[:3], M, N)\n",
    "print(theta)"
   ]
  },
  {
   "cell_type": "code",
   "execution_count": 135,
   "metadata": {},
   "outputs": [
    {
     "name": "stdout",
     "output_type": "stream",
     "text": [
      "[[2 2]\n",
      " [3 3]]\n",
      "[[1 1]\n",
      " [2 2]]\n",
      "[[1 1]\n",
      " [1 1]]\n"
     ]
    },
    {
     "data": {
      "text/plain": [
       "4"
      ]
     },
     "execution_count": 135,
     "metadata": {},
     "output_type": "execute_result"
    }
   ],
   "source": [
    "t = 3\n",
    "x = np.array([[1, 1], [2,2], [3,3]])\n",
    "print(x[1:, :])\n",
    "print(x[:t-1, :])\n",
    "print((x[1:, :] - x[:t-1, :])**2)\n",
    "np.sum( (x[1:, :] - x[:t-1, :])**2)"
   ]
  },
  {
   "cell_type": "code",
   "execution_count": 74,
   "metadata": {},
   "outputs": [
    {
     "name": "stderr",
     "output_type": "stream",
     "text": [
      "/home/marcus/miniconda3/envs/smc/lib/python3.7/site-packages/scipy/stats/_continuous_distns.py:166: RuntimeWarning: overflow encountered in square\n",
      "  return -x**2 / 2.0 - _norm_pdf_logC\n",
      "/home/marcus/miniconda3/envs/smc/lib/python3.7/site-packages/scipy/stats/_distn_infrastructure.py:1762: RuntimeWarning: overflow encountered in true_divide\n",
      "  x = np.asarray((x - loc)/scale, dtype=dtyp)\n",
      "/home/marcus/miniconda3/envs/smc/lib/python3.7/site-packages/scipy/stats/_distn_infrastructure.py:1762: RuntimeWarning: divide by zero encountered in true_divide\n",
      "  x = np.asarray((x - loc)/scale, dtype=dtyp)\n"
     ]
    },
    {
     "ename": "ValueError",
     "evalue": "probabilities contain NaN",
     "output_type": "error",
     "traceback": [
      "\u001b[0;31m---------------------------------------------------------------------------\u001b[0m",
      "\u001b[0;31mValueError\u001b[0m                                Traceback (most recent call last)",
      "\u001b[0;32m<ipython-input-74-b8f85c03a40a>\u001b[0m in \u001b[0;36m<module>\u001b[0;34m\u001b[0m\n\u001b[1;32m      2\u001b[0m \u001b[0mN\u001b[0m \u001b[0;34m=\u001b[0m \u001b[0;36m5\u001b[0m \u001b[0;31m# number of particles in BPF\u001b[0m\u001b[0;34m\u001b[0m\u001b[0;34m\u001b[0m\u001b[0m\n\u001b[1;32m      3\u001b[0m \u001b[0;34m\u001b[0m\u001b[0m\n\u001b[0;32m----> 4\u001b[0;31m \u001b[0mtheta\u001b[0m\u001b[0;34m,\u001b[0m \u001b[0mx\u001b[0m \u001b[0;34m=\u001b[0m \u001b[0mparticle_gibbs_sampling\u001b[0m\u001b[0;34m(\u001b[0m\u001b[0my\u001b[0m\u001b[0;34m,\u001b[0m \u001b[0mM\u001b[0m\u001b[0;34m,\u001b[0m \u001b[0mN\u001b[0m\u001b[0;34m)\u001b[0m\u001b[0;34m\u001b[0m\u001b[0;34m\u001b[0m\u001b[0m\n\u001b[0m\u001b[1;32m      5\u001b[0m \u001b[0;34m\u001b[0m\u001b[0m\n\u001b[1;32m      6\u001b[0m \u001b[0mburnin\u001b[0m \u001b[0;34m=\u001b[0m \u001b[0;36m1000\u001b[0m\u001b[0;34m\u001b[0m\u001b[0;34m\u001b[0m\u001b[0m\n",
      "\u001b[0;32m<ipython-input-73-7032fc074b84>\u001b[0m in \u001b[0;36mparticle_gibbs_sampling\u001b[0;34m(y, M, N)\u001b[0m\n\u001b[1;32m     67\u001b[0m         \u001b[0mparams\u001b[0m \u001b[0;34m=\u001b[0m \u001b[0;34m[\u001b[0m\u001b[0mphi\u001b[0m\u001b[0;34m,\u001b[0m \u001b[0mnp\u001b[0m\u001b[0;34m.\u001b[0m\u001b[0msqrt\u001b[0m\u001b[0;34m(\u001b[0m\u001b[0msigma2\u001b[0m\u001b[0;34m)\u001b[0m\u001b[0;34m,\u001b[0m \u001b[0mnp\u001b[0m\u001b[0;34m.\u001b[0m\u001b[0msqrt\u001b[0m\u001b[0;34m(\u001b[0m\u001b[0mbeta2\u001b[0m\u001b[0;34m)\u001b[0m\u001b[0;34m]\u001b[0m\u001b[0;34m\u001b[0m\u001b[0;34m\u001b[0m\u001b[0m\n\u001b[1;32m     68\u001b[0m         \u001b[0;31m#print(\"x shape: \", x[:, m-1][0])\u001b[0m\u001b[0;34m\u001b[0m\u001b[0;34m\u001b[0m\u001b[0;34m\u001b[0m\u001b[0m\n\u001b[0;32m---> 69\u001b[0;31m         \u001b[0mx\u001b[0m\u001b[0;34m[\u001b[0m\u001b[0;34m:\u001b[0m\u001b[0;34m,\u001b[0m \u001b[0mm\u001b[0m\u001b[0;34m]\u001b[0m \u001b[0;34m=\u001b[0m \u001b[0mparticle_gibbs_bpf\u001b[0m\u001b[0;34m(\u001b[0m\u001b[0my\u001b[0m\u001b[0;34m,\u001b[0m \u001b[0mx\u001b[0m\u001b[0;34m[\u001b[0m\u001b[0;34m:\u001b[0m\u001b[0;34m,\u001b[0m \u001b[0mm\u001b[0m\u001b[0;34m-\u001b[0m\u001b[0;36m1\u001b[0m\u001b[0;34m]\u001b[0m\u001b[0;34m,\u001b[0m \u001b[0mN\u001b[0m\u001b[0;34m,\u001b[0m \u001b[0mtheta\u001b[0m\u001b[0;34m=\u001b[0m\u001b[0mparams\u001b[0m\u001b[0;34m)\u001b[0m\u001b[0;34m\u001b[0m\u001b[0;34m\u001b[0m\u001b[0m\n\u001b[0m\u001b[1;32m     70\u001b[0m     \u001b[0;32mreturn\u001b[0m \u001b[0mtheta\u001b[0m\u001b[0;34m,\u001b[0m \u001b[0mx\u001b[0m\u001b[0;34m\u001b[0m\u001b[0;34m\u001b[0m\u001b[0m\n\u001b[1;32m     71\u001b[0m \u001b[0;34m\u001b[0m\u001b[0m\n",
      "\u001b[0;32m<ipython-input-73-7032fc074b84>\u001b[0m in \u001b[0;36mparticle_gibbs_bpf\u001b[0;34m(y, x_ref, N, theta)\u001b[0m\n\u001b[1;32m     16\u001b[0m     \u001b[0;32mfor\u001b[0m \u001b[0mt\u001b[0m \u001b[0;32min\u001b[0m \u001b[0mrange\u001b[0m\u001b[0;34m(\u001b[0m\u001b[0;36m1\u001b[0m\u001b[0;34m,\u001b[0m \u001b[0mT\u001b[0m\u001b[0;34m+\u001b[0m\u001b[0;36m1\u001b[0m\u001b[0;34m)\u001b[0m\u001b[0;34m:\u001b[0m\u001b[0;34m\u001b[0m\u001b[0;34m\u001b[0m\u001b[0m\n\u001b[1;32m     17\u001b[0m \u001b[0;34m\u001b[0m\u001b[0m\n\u001b[0;32m---> 18\u001b[0;31m         \u001b[0mancs\u001b[0m\u001b[0;34m[\u001b[0m\u001b[0mt\u001b[0m\u001b[0;34m-\u001b[0m\u001b[0;36m1\u001b[0m\u001b[0;34m,\u001b[0m \u001b[0;34m:\u001b[0m\u001b[0mN\u001b[0m\u001b[0;34m-\u001b[0m\u001b[0;36m1\u001b[0m\u001b[0;34m]\u001b[0m \u001b[0;34m=\u001b[0m \u001b[0mnp\u001b[0m\u001b[0;34m.\u001b[0m\u001b[0mrandom\u001b[0m\u001b[0;34m.\u001b[0m\u001b[0mchoice\u001b[0m\u001b[0;34m(\u001b[0m\u001b[0mN\u001b[0m\u001b[0;34m,\u001b[0m \u001b[0msize\u001b[0m\u001b[0;34m=\u001b[0m\u001b[0mN\u001b[0m\u001b[0;34m-\u001b[0m\u001b[0;36m1\u001b[0m\u001b[0;34m,\u001b[0m \u001b[0mp\u001b[0m\u001b[0;34m=\u001b[0m\u001b[0mw\u001b[0m\u001b[0;34m[\u001b[0m\u001b[0mt\u001b[0m\u001b[0;34m-\u001b[0m\u001b[0;36m1\u001b[0m\u001b[0;34m,\u001b[0m \u001b[0;34m:\u001b[0m\u001b[0;34m]\u001b[0m\u001b[0;34m)\u001b[0m\u001b[0;34m\u001b[0m\u001b[0;34m\u001b[0m\u001b[0m\n\u001b[0m\u001b[1;32m     19\u001b[0m         \u001b[0;31m#x[t-1, :] = np.random.choice(x[t-1, :], N, p=w[t-1, :])\u001b[0m\u001b[0;34m\u001b[0m\u001b[0;34m\u001b[0m\u001b[0;34m\u001b[0m\u001b[0m\n\u001b[1;32m     20\u001b[0m \u001b[0;34m\u001b[0m\u001b[0m\n",
      "\u001b[0;32mmtrand.pyx\u001b[0m in \u001b[0;36mmtrand.RandomState.choice\u001b[0;34m()\u001b[0m\n",
      "\u001b[0;31mValueError\u001b[0m: probabilities contain NaN"
     ]
    }
   ],
   "source": [
    "burnin = 1000\n",
    "fig, ax = plt.subplots(nrows=1, ncols=2, figsize=(12, 4))\n",
    "ax[0].hist(theta[burnin:,0], bins=30, density=True)\n",
    "ax[0].set_xlabel(r\"$\\sigma^2$\"); ax[0].set_ylabel(r\"$p(\\sigma^2 | y)$\");\n",
    "ax[1].hist(theta[burnin:,1], bins=30, density=True)\n",
    "ax[1].set_xlabel(r\"$\\beta^2$\"); ax[1].set_ylabel(r\"$p(\\beta^2 | y)$\");\n",
    "plt.show()"
   ]
  },
  {
   "cell_type": "code",
   "execution_count": null,
   "metadata": {},
   "outputs": [],
   "source": []
  }
 ],
 "metadata": {
  "kernelspec": {
   "display_name": "Python 3",
   "language": "python",
   "name": "python3"
  },
  "language_info": {
   "codemirror_mode": {
    "name": "ipython",
    "version": 3
   },
   "file_extension": ".py",
   "mimetype": "text/x-python",
   "name": "python",
   "nbconvert_exporter": "python",
   "pygments_lexer": "ipython3",
   "version": "3.7.4"
  }
 },
 "nbformat": 4,
 "nbformat_minor": 2
}
